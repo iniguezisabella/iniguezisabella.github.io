{
 "cells": [
  {
   "cell_type": "markdown",
   "metadata": {},
   "source": [
    "Ideas:\n",
    "\n",
    "Parameter: year\n",
    "scatter plot: x = month, y = temp\n",
    "\n",
    "base period: 1951-1980\n",
    "\n",
    "Divide by 100 to get changes in degrees Celsius (deg-C).\n",
    "\n",
    "Multiply that result by 1.8(=9/5) to get changes in degrees Fahrenheit (deg-F).\n",
    "\n",
    "Example      --      Table Value :      40\n",
    "                          change :    0.40 deg-C  or  0.72 deg-F"
   ]
  },
  {
   "cell_type": "code",
   "execution_count": 185,
   "metadata": {},
   "outputs": [],
   "source": [
    "import pandas as pd"
   ]
  },
  {
   "cell_type": "code",
   "execution_count": 186,
   "metadata": {},
   "outputs": [
    {
     "data": {
      "text/html": [
       "<div>\n",
       "<style scoped>\n",
       "    .dataframe tbody tr th:only-of-type {\n",
       "        vertical-align: middle;\n",
       "    }\n",
       "\n",
       "    .dataframe tbody tr th {\n",
       "        vertical-align: top;\n",
       "    }\n",
       "\n",
       "    .dataframe thead th {\n",
       "        text-align: right;\n",
       "    }\n",
       "</style>\n",
       "<table border=\"1\" class=\"dataframe\">\n",
       "  <thead>\n",
       "    <tr style=\"text-align: right;\">\n",
       "      <th></th>\n",
       "      <th>Year</th>\n",
       "      <th>Jan</th>\n",
       "      <th>Feb</th>\n",
       "      <th>Mar</th>\n",
       "      <th>Apr</th>\n",
       "      <th>May</th>\n",
       "      <th>Jun</th>\n",
       "      <th>Jul</th>\n",
       "      <th>Aug</th>\n",
       "      <th>Sep</th>\n",
       "      <th>Oct</th>\n",
       "      <th>Nov</th>\n",
       "      <th>Dec</th>\n",
       "      <th>J-D</th>\n",
       "      <th>D-N</th>\n",
       "      <th>DJF</th>\n",
       "      <th>MAM</th>\n",
       "      <th>JJA</th>\n",
       "      <th>SON</th>\n",
       "    </tr>\n",
       "  </thead>\n",
       "  <tbody>\n",
       "    <tr>\n",
       "      <th>0</th>\n",
       "      <td>1880</td>\n",
       "      <td>-0.19</td>\n",
       "      <td>-0.24</td>\n",
       "      <td>-0.09</td>\n",
       "      <td>-0.16</td>\n",
       "      <td>-0.10</td>\n",
       "      <td>-0.21</td>\n",
       "      <td>-.18</td>\n",
       "      <td>-.10</td>\n",
       "      <td>-.14</td>\n",
       "      <td>-.23</td>\n",
       "      <td>-.21</td>\n",
       "      <td>-.18</td>\n",
       "      <td>-.17</td>\n",
       "      <td>***</td>\n",
       "      <td>***</td>\n",
       "      <td>-0.12</td>\n",
       "      <td>-.16</td>\n",
       "      <td>-.19</td>\n",
       "    </tr>\n",
       "    <tr>\n",
       "      <th>1</th>\n",
       "      <td>1881</td>\n",
       "      <td>-0.20</td>\n",
       "      <td>-0.14</td>\n",
       "      <td>0.03</td>\n",
       "      <td>0.05</td>\n",
       "      <td>0.06</td>\n",
       "      <td>-0.19</td>\n",
       "      <td>.00</td>\n",
       "      <td>-.04</td>\n",
       "      <td>-.16</td>\n",
       "      <td>-.22</td>\n",
       "      <td>-.18</td>\n",
       "      <td>-.07</td>\n",
       "      <td>-.09</td>\n",
       "      <td>-.10</td>\n",
       "      <td>-.17</td>\n",
       "      <td>0.05</td>\n",
       "      <td>-.08</td>\n",
       "      <td>-.19</td>\n",
       "    </tr>\n",
       "    <tr>\n",
       "      <th>2</th>\n",
       "      <td>1882</td>\n",
       "      <td>0.16</td>\n",
       "      <td>0.13</td>\n",
       "      <td>0.04</td>\n",
       "      <td>-0.17</td>\n",
       "      <td>-0.14</td>\n",
       "      <td>-0.23</td>\n",
       "      <td>-.17</td>\n",
       "      <td>-.07</td>\n",
       "      <td>-.14</td>\n",
       "      <td>-.24</td>\n",
       "      <td>-.17</td>\n",
       "      <td>-.36</td>\n",
       "      <td>-.11</td>\n",
       "      <td>-.09</td>\n",
       "      <td>.07</td>\n",
       "      <td>-0.09</td>\n",
       "      <td>-.16</td>\n",
       "      <td>-.18</td>\n",
       "    </tr>\n",
       "    <tr>\n",
       "      <th>3</th>\n",
       "      <td>1883</td>\n",
       "      <td>-0.29</td>\n",
       "      <td>-0.37</td>\n",
       "      <td>-0.12</td>\n",
       "      <td>-0.18</td>\n",
       "      <td>-0.17</td>\n",
       "      <td>-0.08</td>\n",
       "      <td>-.07</td>\n",
       "      <td>-.14</td>\n",
       "      <td>-.21</td>\n",
       "      <td>-.11</td>\n",
       "      <td>-.23</td>\n",
       "      <td>-.11</td>\n",
       "      <td>-.18</td>\n",
       "      <td>-.20</td>\n",
       "      <td>-.34</td>\n",
       "      <td>-0.16</td>\n",
       "      <td>-.10</td>\n",
       "      <td>-.19</td>\n",
       "    </tr>\n",
       "    <tr>\n",
       "      <th>4</th>\n",
       "      <td>1884</td>\n",
       "      <td>-0.13</td>\n",
       "      <td>-0.08</td>\n",
       "      <td>-0.36</td>\n",
       "      <td>-0.40</td>\n",
       "      <td>-0.34</td>\n",
       "      <td>-0.35</td>\n",
       "      <td>-.31</td>\n",
       "      <td>-.28</td>\n",
       "      <td>-.27</td>\n",
       "      <td>-.25</td>\n",
       "      <td>-.34</td>\n",
       "      <td>-.31</td>\n",
       "      <td>-.29</td>\n",
       "      <td>-.27</td>\n",
       "      <td>-.11</td>\n",
       "      <td>-0.37</td>\n",
       "      <td>-.32</td>\n",
       "      <td>-.29</td>\n",
       "    </tr>\n",
       "  </tbody>\n",
       "</table>\n",
       "</div>"
      ],
      "text/plain": [
       "   Year   Jan   Feb   Mar   Apr   May   Jun   Jul   Aug   Sep   Oct   Nov  \\\n",
       "0  1880 -0.19 -0.24 -0.09 -0.16 -0.10 -0.21  -.18  -.10  -.14  -.23  -.21   \n",
       "1  1881 -0.20 -0.14  0.03  0.05  0.06 -0.19   .00  -.04  -.16  -.22  -.18   \n",
       "2  1882  0.16  0.13  0.04 -0.17 -0.14 -0.23  -.17  -.07  -.14  -.24  -.17   \n",
       "3  1883 -0.29 -0.37 -0.12 -0.18 -0.17 -0.08  -.07  -.14  -.21  -.11  -.23   \n",
       "4  1884 -0.13 -0.08 -0.36 -0.40 -0.34 -0.35  -.31  -.28  -.27  -.25  -.34   \n",
       "\n",
       "    Dec   J-D   D-N   DJF   MAM   JJA   SON  \n",
       "0  -.18  -.17   ***   *** -0.12  -.16  -.19  \n",
       "1  -.07  -.09  -.10  -.17  0.05  -.08  -.19  \n",
       "2  -.36  -.11  -.09   .07 -0.09  -.16  -.18  \n",
       "3  -.11  -.18  -.20  -.34 -0.16  -.10  -.19  \n",
       "4  -.31  -.29  -.27  -.11 -0.37  -.32  -.29  "
      ]
     },
     "execution_count": 186,
     "metadata": {},
     "output_type": "execute_result"
    }
   ],
   "source": [
    "global_temps_df = pd.read_csv(\"GLB.Ts+dSST_adj.csv\")\n",
    "global_temps_df.head(5)"
   ]
  },
  {
   "cell_type": "code",
   "execution_count": 187,
   "metadata": {},
   "outputs": [
    {
     "data": {
      "text/plain": [
       "Index(['Year', 'Jan', 'Feb', 'Mar', 'Apr', 'May', 'Jun', 'Jul', 'Aug', 'Sep',\n",
       "       'Oct', 'Nov', 'Dec', 'J-D', 'D-N', 'DJF', 'MAM', 'JJA', 'SON'],\n",
       "      dtype='object')"
      ]
     },
     "execution_count": 187,
     "metadata": {},
     "output_type": "execute_result"
    }
   ],
   "source": [
    "global_temps_df.columns"
   ]
  },
  {
   "cell_type": "code",
   "execution_count": 188,
   "metadata": {},
   "outputs": [],
   "source": [
    "global_temps_df['Year'].unique()\n",
    "centTemps_df = global_temps_df[(global_temps_df['Year'] >= 1924) & (global_temps_df['Year'] <= 2023)]\n",
    "centTemps_df = centTemps_df[['Year', 'Jan', 'Feb', 'Mar', 'Apr', 'May', 'Jun', 'Jul', 'Aug', 'Sep',\n",
    "       'Oct', 'Nov', 'Dec']]"
   ]
  },
  {
   "cell_type": "code",
   "execution_count": 189,
   "metadata": {},
   "outputs": [
    {
     "data": {
      "text/plain": [
       "Year      int64\n",
       "Jan     float64\n",
       "Feb     float64\n",
       "Mar     float64\n",
       "Apr     float64\n",
       "May     float64\n",
       "Jun     float64\n",
       "Jul      object\n",
       "Aug      object\n",
       "Sep      object\n",
       "Oct      object\n",
       "Nov      object\n",
       "Dec      object\n",
       "dtype: object"
      ]
     },
     "execution_count": 189,
     "metadata": {},
     "output_type": "execute_result"
    }
   ],
   "source": [
    "centTemps_df.dtypes"
   ]
  },
  {
   "cell_type": "code",
   "execution_count": 190,
   "metadata": {},
   "outputs": [],
   "source": [
    "# centTemps_df.loc[:, centTemps_df.columns != 'Year'] *= 0.018 # 0.01 * 1.8\n",
    "# centTemps_df\n",
    "# centTemps_df.dtypes\n",
    "# centTemps_df.loc[:, centTemps_df.columns != 'Year'].astype('float64').dtypes\n",
    "centTemps_df = centTemps_df.astype('float64')\n",
    "centTemps_df = centTemps_df.astype({'Year': 'int64'})"
   ]
  },
  {
   "cell_type": "code",
   "execution_count": 191,
   "metadata": {},
   "outputs": [
    {
     "data": {
      "text/plain": [
       "Year      int64\n",
       "Jan     float64\n",
       "Feb     float64\n",
       "Mar     float64\n",
       "Apr     float64\n",
       "May     float64\n",
       "Jun     float64\n",
       "Jul     float64\n",
       "Aug     float64\n",
       "Sep     float64\n",
       "Oct     float64\n",
       "Nov     float64\n",
       "Dec     float64\n",
       "dtype: object"
      ]
     },
     "execution_count": 191,
     "metadata": {},
     "output_type": "execute_result"
    }
   ],
   "source": [
    "centTemps_df.dtypes"
   ]
  },
  {
   "cell_type": "code",
   "execution_count": 192,
   "metadata": {},
   "outputs": [
    {
     "data": {
      "text/html": [
       "<div>\n",
       "<style scoped>\n",
       "    .dataframe tbody tr th:only-of-type {\n",
       "        vertical-align: middle;\n",
       "    }\n",
       "\n",
       "    .dataframe tbody tr th {\n",
       "        vertical-align: top;\n",
       "    }\n",
       "\n",
       "    .dataframe thead th {\n",
       "        text-align: right;\n",
       "    }\n",
       "</style>\n",
       "<table border=\"1\" class=\"dataframe\">\n",
       "  <thead>\n",
       "    <tr style=\"text-align: right;\">\n",
       "      <th></th>\n",
       "      <th>Year</th>\n",
       "      <th>Jan</th>\n",
       "      <th>Feb</th>\n",
       "      <th>Mar</th>\n",
       "      <th>Apr</th>\n",
       "      <th>May</th>\n",
       "      <th>Jun</th>\n",
       "      <th>Jul</th>\n",
       "      <th>Aug</th>\n",
       "      <th>Sep</th>\n",
       "      <th>Oct</th>\n",
       "      <th>Nov</th>\n",
       "      <th>Dec</th>\n",
       "    </tr>\n",
       "  </thead>\n",
       "  <tbody>\n",
       "    <tr>\n",
       "      <th>44</th>\n",
       "      <td>1924</td>\n",
       "      <td>-0.00396</td>\n",
       "      <td>-0.00414</td>\n",
       "      <td>-0.00144</td>\n",
       "      <td>-0.00540</td>\n",
       "      <td>-0.00324</td>\n",
       "      <td>-0.00468</td>\n",
       "      <td>-0.00522</td>\n",
       "      <td>-0.00648</td>\n",
       "      <td>-0.00576</td>\n",
       "      <td>-0.00630</td>\n",
       "      <td>-0.00360</td>\n",
       "      <td>-0.00774</td>\n",
       "    </tr>\n",
       "    <tr>\n",
       "      <th>45</th>\n",
       "      <td>1925</td>\n",
       "      <td>-0.00666</td>\n",
       "      <td>-0.00702</td>\n",
       "      <td>-0.00486</td>\n",
       "      <td>-0.00450</td>\n",
       "      <td>-0.00522</td>\n",
       "      <td>-0.00594</td>\n",
       "      <td>-0.00486</td>\n",
       "      <td>-0.00378</td>\n",
       "      <td>-0.00342</td>\n",
       "      <td>-0.00306</td>\n",
       "      <td>0.00090</td>\n",
       "      <td>0.00108</td>\n",
       "    </tr>\n",
       "    <tr>\n",
       "      <th>46</th>\n",
       "      <td>1926</td>\n",
       "      <td>0.00378</td>\n",
       "      <td>0.00054</td>\n",
       "      <td>0.00198</td>\n",
       "      <td>-0.00234</td>\n",
       "      <td>-0.00414</td>\n",
       "      <td>-0.00468</td>\n",
       "      <td>-0.00486</td>\n",
       "      <td>-0.00234</td>\n",
       "      <td>-0.00252</td>\n",
       "      <td>-0.00198</td>\n",
       "      <td>-0.00108</td>\n",
       "      <td>-0.00522</td>\n",
       "    </tr>\n",
       "  </tbody>\n",
       "</table>\n",
       "</div>"
      ],
      "text/plain": [
       "    Year      Jan      Feb      Mar      Apr      May      Jun      Jul  \\\n",
       "44  1924 -0.00396 -0.00414 -0.00144 -0.00540 -0.00324 -0.00468 -0.00522   \n",
       "45  1925 -0.00666 -0.00702 -0.00486 -0.00450 -0.00522 -0.00594 -0.00486   \n",
       "46  1926  0.00378  0.00054  0.00198 -0.00234 -0.00414 -0.00468 -0.00486   \n",
       "\n",
       "        Aug      Sep      Oct      Nov      Dec  \n",
       "44 -0.00648 -0.00576 -0.00630 -0.00360 -0.00774  \n",
       "45 -0.00378 -0.00342 -0.00306  0.00090  0.00108  \n",
       "46 -0.00234 -0.00252 -0.00198 -0.00108 -0.00522  "
      ]
     },
     "execution_count": 192,
     "metadata": {},
     "output_type": "execute_result"
    }
   ],
   "source": [
    "centTemps_df.loc[:, centTemps_df.columns != 'Year'] *= 0.01 * 1.8\n",
    "centTemps_df.head(3)"
   ]
  },
  {
   "cell_type": "code",
   "execution_count": 193,
   "metadata": {},
   "outputs": [
    {
     "data": {
      "text/plain": [
       "(Year    2023.00000\n",
       " Sep        0.02664\n",
       " Name: max, dtype: float64,\n",
       " Feb   -0.01044\n",
       " Name: min, dtype: float64)"
      ]
     },
     "execution_count": 193,
     "metadata": {},
     "output_type": "execute_result"
    }
   ],
   "source": [
    "minMax = pd.DataFrame({\"max\": centTemps_df.max(), \"min\": centTemps_df.min()})\n",
    "minMax[\"max\"].nlargest(2), minMax[\"min\"].nsmallest(1) # range: 0.02664, -0.01044"
   ]
  },
  {
   "cell_type": "code",
   "execution_count": 194,
   "metadata": {},
   "outputs": [],
   "source": [
    "centTemps_df.to_csv('globalTempsData.csv', index=False)"
   ]
  },
  {
   "cell_type": "code",
   "execution_count": null,
   "metadata": {},
   "outputs": [],
   "source": []
  }
 ],
 "metadata": {
  "kernelspec": {
   "display_name": "Python 3",
   "language": "python",
   "name": "python3"
  },
  "language_info": {
   "codemirror_mode": {
    "name": "ipython",
    "version": 3
   },
   "file_extension": ".py",
   "mimetype": "text/x-python",
   "name": "python",
   "nbconvert_exporter": "python",
   "pygments_lexer": "ipython3",
   "version": "3.11.5"
  }
 },
 "nbformat": 4,
 "nbformat_minor": 2
}
